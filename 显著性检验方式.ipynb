{
  "nbformat": 4,
  "nbformat_minor": 0,
  "metadata": {
    "colab": {
      "name": "显著性检验方式.ipynb",
      "provenance": []
    },
    "kernelspec": {
      "name": "python3",
      "display_name": "Python 3"
    },
    "language_info": {
      "name": "python"
    }
  },
  "cells": [
    {
      "cell_type": "markdown",
      "metadata": {
        "id": "EvG1ZEc8ZjTp"
      },
      "source": [
        "实验实例：PBN Android AA测试 https://bi.learnings.ai/#/pm/5b84f58e689998000116d3fd/abtest/exp?domain=cms&expId=5f3dd792f54b8a000119e514  \n",
        "实验时间：2020-08-22 ~ 2020-09-07\n",
        "\n",
        "对比组：A1(Ua0) & A4(Ua3) "
      ]
    },
    {
      "cell_type": "markdown",
      "metadata": {
        "id": "5nntCLqoan0M"
      },
      "source": [
        "取数及当前方法计算显著性的结果\n",
        "select avg(fin), stddev(fin),count(*) from (SELECT\n",
        "  _table_suffix as date, unique_user_id,sum(pic_finish_nums) as fin\n",
        "FROM\n",
        "  `paint-by-number-3c789.learnings_data_warehouse_android.analytics_dm_action_userPrimaryMetric_di_*`\n",
        "WHERE\n",
        "  _table_suffix BETWEEN '20200822'\n",
        "  AND '20200907'\n",
        "  and abtest_tag like '%Ua0%'\n",
        "  group by 1,2)\n",
        "  union all\n",
        "  select avg(fin), stddev(fin),count(*)  from (SELECT\n",
        "  _table_suffix as date, unique_user_id,sum(pic_finish_nums) as fin\n",
        "FROM\n",
        "  `paint-by-number-3c789.learnings_data_warehouse_android.analytics_dm_action_userPrimaryMetric_di_*`\n",
        "WHERE\n",
        "  _table_suffix BETWEEN '20200822'\n",
        "  AND '20200907'\n",
        "  and abtest_tag like '%Ua3%'\n",
        "  group by 1,2)\n",
        "  \n",
        "  \n",
        "  -- ua0：avg:5.359787175047511  std: 8.199395443755122   2005216\n",
        "  -- ua3：avg:5.379056000143576  std: 8.272769690991419   2006102\n",
        "  \n",
        " 当前方式：人天为样本\n",
        "\n",
        " p: 0.019137153378226687 显著"
      ]
    },
    {
      "cell_type": "code",
      "metadata": {
        "colab": {
          "base_uri": "https://localhost:8080/"
        },
        "id": "yoCHBzuFZelI",
        "outputId": "89a587f3-50ff-4c9f-eba9-4a52be3604ef"
      },
      "source": [
        "#当前方式显著性计算代码\n",
        "import math\n",
        "import scipy.stats as stats\n",
        "\n",
        "\n",
        "def count( x1, x2, s1, s2, n1, n2, alpha=0.05):\n",
        "# 计算显著性\n",
        "    z = (x1 - x2) / pow(s1 ** 2 / n1 + s2 ** 2 / n2, 1 / 2)\n",
        "    if z > 0:\n",
        "        p = (1 - stats.norm.cdf(z)) * 2\n",
        "    else:\n",
        "        p = 2 * stats.norm.cdf(z)\n",
        "    # 计算置信区间\n",
        "    d = stats.norm.ppf(1 - alpha / 2) * pow(s1 ** 2 / n1 + s2 ** 2 / n2, 1 / 2)\n",
        "    floor = -(x1 - x2 - d)\n",
        "    ceil = -(x1 - x2 + d)\n",
        "    return p\n",
        "\n",
        "x1 = 5.359787175047511\n",
        "x2 = 5.379056000143576\n",
        "s1 = 8.199395443755122\n",
        "s2 = 8.272769690991419\n",
        "n1 = 2005216\n",
        "n2 = 2006102\n",
        "\n",
        "p = count( x1, x2, s1, s2, n1, n2, alpha=0.05)\n",
        "print(p)"
      ],
      "execution_count": null,
      "outputs": [
        {
          "output_type": "stream",
          "text": [
            "0.019137153378226687\n"
          ],
          "name": "stdout"
        }
      ]
    },
    {
      "cell_type": "markdown",
      "metadata": {
        "id": "4snx9n61q1g_"
      },
      "source": [
        "当前方式2：人为样本\n",
        "\n",
        "取数：\n",
        "\n",
        " (select AVG(Si) ,stddev(Si)  from (\n",
        "  select unique_user_id,sum(fin) as Si  from (SELECT\n",
        "  _table_suffix as date, unique_user_id,sum(pic_finish_nums) as fin\n",
        "FROM\n",
        "  `paint-by-number-3c789.learnings_data_warehouse_android.analytics_dm_action_userPrimaryMetric_di_*`\n",
        "WHERE\n",
        "  _table_suffix BETWEEN '20200822'\n",
        "  AND '20200907'\n",
        "  and abtest_tag like '%Ua0%'\n",
        "  group by 1,2) GROUP BY 1))\n",
        "  union all\n",
        "   (select AVG(Si) ,stddev(Si)  from (\n",
        "  select unique_user_id,sum(fin) as Si  from (SELECT\n",
        "  _table_suffix as date, unique_user_id,sum(pic_finish_nums) as fin\n",
        "FROM\n",
        "  `paint-by-number-3c789.learnings_data_warehouse_android.analytics_dm_action_userPrimaryMetric_di_*`\n",
        "WHERE\n",
        "  _table_suffix BETWEEN '20200822'\n",
        "  AND '20200907'\n",
        "  and abtest_tag like '%Ua3%'\n",
        "  group by 1,2) GROUP BY 1))\n",
        "\n",
        "--Ua0\t\n",
        "--20.93998488078048\n",
        "--49.48935978699663\n",
        "--513254\n",
        "--Ua3\n",
        "--21.06078408028554\n",
        "--50.086428276735084\n",
        "--512371\n",
        "\n",
        "\n",
        "\n",
        "p值：0.21923891930286177 不显著\n"
      ]
    },
    {
      "cell_type": "code",
      "metadata": {
        "colab": {
          "base_uri": "https://localhost:8080/"
        },
        "id": "jHts4_eeq6JQ",
        "outputId": "a4d83407-a0d7-4caa-cbf2-4febfd97108e"
      },
      "source": [
        "import math\n",
        "import scipy.stats as stats\n",
        "\n",
        "\n",
        "def count( x1, x2, s1, s2, n1, n2, alpha=0.05):\n",
        "# 计算显著性\n",
        "    z = (x1 - x2) / pow(s1 ** 2 / n1 + s2 ** 2 / n2, 1 / 2)\n",
        "    if z > 0:\n",
        "        p = (1 - stats.norm.cdf(z)) * 2\n",
        "    else:\n",
        "        p = 2 * stats.norm.cdf(z)\n",
        "    # 计算置信区间\n",
        "    d = stats.norm.ppf(1 - alpha / 2) * pow(s1 ** 2 / n1 + s2 ** 2 / n2, 1 / 2)\n",
        "    floor = -(x1 - x2 - d)\n",
        "    ceil = -(x1 - x2 + d)\n",
        "    return p\n",
        "\n",
        "x2 = 21.06078408028554\n",
        "x1 = 20.93998488078048\n",
        "s2 = 50.086428276735084\n",
        "s1 = 49.48935978699663\n",
        "n2 = 512371\n",
        "n1 = 513254\n",
        "\n",
        "p = count( x1, x2, s1, s2, n1, n2, alpha=0.05)\n",
        "print(p)"
      ],
      "execution_count": null,
      "outputs": [
        {
          "output_type": "stream",
          "text": [
            "0.21923891930286177\n"
          ],
          "name": "stdout"
        }
      ]
    },
    {
      "cell_type": "markdown",
      "metadata": {
        "id": "2MS3ZE9Od544"
      },
      "source": [
        "用新的方式来计算方差.\n",
        "\n",
        "1.首先查出两组人数\n",
        "\n",
        "(SELECT\n",
        "  count(distinct unique_user_id)\n",
        "FROM\n",
        "  `paint-by-number-3c789.learnings_data_warehouse_android.analytics_dm_action_userPrimaryMetric_di_*`\n",
        "WHERE\n",
        "  _table_suffix BETWEEN '20200822'\n",
        "  AND '20200907'\n",
        "  and abtest_tag like '%Ua0%') \n",
        "union all\n",
        "(SELECT\n",
        "  count(distinct unique_user_id)\n",
        "FROM\n",
        "  `paint-by-number-3c789.learnings_data_warehouse_android.analytics_dm_action_userPrimaryMetric_di_*`\n",
        "WHERE\n",
        "  _table_suffix BETWEEN '20200822'\n",
        "  AND '20200907'\n",
        "  and abtest_tag like '%Ua3%') \n",
        "\n",
        "  -- Ua0：513254\n",
        "  -- Ua3：512371\n",
        "\n",
        "  2.其次根据公式分别提取出需要的数据\n",
        "  Ua0:\n",
        "   select AVG(Ni) as miuN1,AVG(Si) as miuS1,stddev(Ni) as sgmN1 ,stddev(Si) as sgmS1, COVAR_SAMP(Ni,Si) as cov1 from (\n",
        "  select unique_user_id,count(fin)/513254 as Ni ,sum(fin)/513254 as Si  from (SELECT\n",
        "  _table_suffix as date, unique_user_id,sum(pic_finish_nums) as fin\n",
        "FROM\n",
        "  `paint-by-number-3c789.learnings_data_warehouse_android.analytics_dm_action_userPrimaryMetric_di_*`\n",
        "WHERE\n",
        "  _table_suffix BETWEEN '20200822'\n",
        "  AND '20200907'\n",
        "  and abtest_tag like '%Ua0%'\n",
        "  group by 1,2) GROUP BY 1)\n",
        "\n",
        "-- miuN1=7.611959622073329E-6\n",
        "-- sgmN1=7.5468716529489155E-6  \n",
        "-- miuS1=4.0798483559367195E-5 \n",
        "-- sgmS1=9.642274543792179E-5\n",
        "-- cov1=4.811171895285024E-10\n",
        "\n",
        " Ua3:\n",
        " select AVG(Ni) as miuN2,AVG(Si) as miuS2,stddev(Ni) as sgmN2 ,stddev(Si) as sgmS2, COVAR_SAMP(Ni,Si) as cov2 from (\n",
        "  select unique_user_id,count(fin)/513254 as Ni ,sum(fin)/513254 as Si  from (SELECT\n",
        "  _table_suffix as date, unique_user_id,sum(pic_finish_nums) as fin\n",
        "FROM\n",
        "  `paint-by-number-3c789.learnings_data_warehouse_android.analytics_dm_action_userPrimaryMetric_di_*`\n",
        "WHERE\n",
        "  _table_suffix BETWEEN '20200822'\n",
        "  AND '20200907'\n",
        "  and abtest_tag like '%Ua3%'\n",
        "  group by 1,2) GROUP BY 1)\n",
        "\n",
        "-- miuN2=7.641593461155268E-6\n",
        "-- sgmN2=7.5766824777271935E-6  \n",
        "-- miuS2=4.110455915788714E-5 \n",
        "-- sgmS2=9.775422160258047E-5\n",
        "-- cov2=4.861059444738555E-10"
      ]
    },
    {
      "cell_type": "code",
      "metadata": {
        "colab": {
          "base_uri": "https://localhost:8080/"
        },
        "id": "a6o_5JZQhiQX",
        "outputId": "64f77fd9-134d-4aaf-8151-4fcf04d06139"
      },
      "source": [
        "#通过delta-method来计算方差和置信区间\n",
        "import scipy.stats as st\n",
        "import math \n",
        "\n",
        "def dm(K,miuN,miuS,sgmN,sgmS,cov):\n",
        "    vest = (sgmS ** 2) / (miuN ** 2) + (miuS ** 2) * (sgmN ** 2) / (miuN ** 4) - 2 * miuS * cov / (miuN ** 3)\n",
        "    bc = miuS / (miuN ** 3) * (sgmN ** 2 / K1) - 1 / (miuN ** 2) * (cov / K)\n",
        "    pest = miuS / miuN - 1 + bc\n",
        "    y_floor = pest - st.norm.ppf(0.975) * pow(vest / K, 1/2)\n",
        "    y_ceil1 = pest + st.norm.ppf(0.975) * pow(vest / K, 1/2)\n",
        "    return {\n",
        "        \"方差：\":vest,\n",
        "        \"置信区间:\":[y_floor,y_ceil1]\n",
        "    }\n",
        "\n",
        "K1 =513254    \n",
        "miuN1=7.611959622073329E-6\n",
        "sgmN1=7.5468716529489155E-6  \n",
        "miuS1=4.0798483559367195E-5 \n",
        "sgmS1=9.642274543792179E-5\n",
        "cov1=4.811171895285024E-10\n",
        "\n",
        "R1 = dm(K1,miuN1,miuS1,sgmN1,sgmS1,cov1)\n",
        "print(\"Ua0的方差和置信区间：\",R1)\n",
        "\n",
        "\n",
        "K2 =512371    \n",
        "miuN2=7.641593461155268E-6\n",
        "sgmN2=7.5766824777271935E-6  \n",
        "miuS2=4.110455915788714E-5 \n",
        "sgmS2=9.775422160258047E-5\n",
        "cov2=4.861059444738555E-10\n",
        "\n",
        "R2 = dm(K2,miuN2,miuS2,sgmN2,sgmS2,cov2)\n",
        "print(\"Ua3的方差和置信区间：\",R2)\n"
      ],
      "execution_count": null,
      "outputs": [
        {
          "output_type": "stream",
          "text": [
            "Ua0的方差和置信区间： {'方差：': 99.68854437056926, '置信区间:': [4.332466051750653, 4.387096472157213]}\n",
            "Ua3的方差和置信区间： {'方差：': 102.53302196438213, '置信区间:': [4.351324025278139, 4.40677608662517]}\n"
          ],
          "name": "stdout"
        }
      ]
    },
    {
      "cell_type": "markdown",
      "metadata": {
        "id": "Jtd4tHABkl1O"
      },
      "source": [
        "运算结果：\n",
        "\n",
        "Ua0的方差和置信区间： {'方差：': 99.68854437056926, '置信区间:': [4.332466051750653, 4.387096472157213]}\n",
        "\n",
        "Ua3的方差和置信区间： {'方差：': 102.53302196438213, '置信区间:': [4.351324025278139, 4.40677608662517]}\n",
        "\n",
        "从运算结果看，置信区间相交，因此变化不显著。\n",
        "从公式看，计算置信区间时需要减1。但实际结果不减1更实际更相符。需要进一步研究\n",
        "\n",
        "\n",
        "\n",
        "下面尝试用每组的方差代入Z检验来计算\n",
        "\n",
        "方式1：样本数取PV的样本数进行计算\n",
        "\n",
        "P值：0.05498671759929719 不显著"
      ]
    },
    {
      "cell_type": "code",
      "metadata": {
        "colab": {
          "base_uri": "https://localhost:8080/"
        },
        "id": "6qZh8ZqelJug",
        "outputId": "4646b105-3cf9-42ba-cc66-a5b78163da58"
      },
      "source": [
        "import math\n",
        "import scipy.stats as stats\n",
        "\n",
        "\n",
        "def count( x1, x2, pest1, pest2, n1, n2, alpha=0.05):\n",
        "# 计算显著性\n",
        "    z = (x1 - x2) / pow(pest1 / n1 + pest2 / n2, 1 / 2)\n",
        "    if z > 0:\n",
        "        p = (1 - stats.norm.cdf(z)) * 2\n",
        "    else:\n",
        "        p = 2 * stats.norm.cdf(z)\n",
        "    # 计算置信区间\n",
        "    d = stats.norm.ppf(1 - alpha / 2) * pow(s1 ** 2 / n1 + s2 ** 2 / n2, 1 / 2)\n",
        "    floor = -(x1 - x2 - d)\n",
        "    ceil = -(x1 - x2 + d)\n",
        "    return p\n",
        "\n",
        "x1 = 5.359787175047511\n",
        "x2 = 5.379056000143576\n",
        "pest1 = 99.68854437056926\n",
        "pest2 = 102.53302196438213\n",
        "n1 = 2005216\n",
        "n2 = 2006102\n",
        "\n",
        "p = count( x1, x2, pest1, pest2, n1, n2, alpha=0.05)\n",
        "print(p)"
      ],
      "execution_count": null,
      "outputs": [
        {
          "output_type": "stream",
          "text": [
            "0.05498671759929719\n"
          ],
          "name": "stdout"
        }
      ]
    },
    {
      "cell_type": "markdown",
      "metadata": {
        "id": "Ysc4fOwKqPY2"
      },
      "source": [
        "方式2：样本数取UV的样本数进行计算。论文中给出的两组差的方差即此方式\n",
        "\n",
        "P值：0.3318836407269048 不显著"
      ]
    },
    {
      "cell_type": "code",
      "metadata": {
        "colab": {
          "base_uri": "https://localhost:8080/"
        },
        "id": "ce2HDv9sqSR_",
        "outputId": "46b4b41f-479e-42b2-970a-84b5cb8d0414"
      },
      "source": [
        "import math\n",
        "import scipy.stats as stats\n",
        "\n",
        "\n",
        "def count( x1, x2, pest1, pest2, n1, n2, alpha=0.05):\n",
        "# 计算显著性\n",
        "    z = (x1 - x2) / pow(pest1 / n1 + pest2 / n2, 1 / 2)\n",
        "    if z > 0:\n",
        "        p = (1 - stats.norm.cdf(z)) * 2\n",
        "    else:\n",
        "        p = 2 * stats.norm.cdf(z)\n",
        "    # 计算置信区间\n",
        "    d = stats.norm.ppf(1 - alpha / 2) * pow(s1 ** 2 / n1 + s2 ** 2 / n2, 1 / 2)\n",
        "    floor = -(x1 - x2 - d)\n",
        "    ceil = -(x1 - x2 + d)\n",
        "    return p\n",
        "\n",
        "x1 = 5.359787175047511\n",
        "x2 = 5.379056000143576\n",
        "pest1 = 99.68854437056926\n",
        "pest2 = 102.53302196438213\n",
        "n1 = 513254\n",
        "n2 = 512371\n",
        "\n",
        "p = count( x1, x2, pest1, pest2, n1, n2, alpha=0.05)\n",
        "print(p)"
      ],
      "execution_count": null,
      "outputs": [
        {
          "output_type": "stream",
          "text": [
            "0.3318836407269048\n"
          ],
          "name": "stdout"
        }
      ]
    }
  ]
}